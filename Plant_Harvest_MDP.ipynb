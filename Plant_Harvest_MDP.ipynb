{
 "cells": [
  {
   "cell_type": "code",
   "execution_count": 1,
   "metadata": {},
   "outputs": [],
   "source": [
    "import numpy as np\n",
    "import itertools"
   ]
  },
  {
   "cell_type": "code",
   "execution_count": 5,
   "metadata": {},
   "outputs": [
    {
     "name": "stdout",
     "output_type": "stream",
     "text": [
      "Requirement already satisfied: memoization in c:\\anaconda\\lib\\site-packages (0.3.1)\n"
     ]
    }
   ],
   "source": [
    "!pip install memoization"
   ]
  },
  {
   "cell_type": "code",
   "execution_count": 2,
   "metadata": {},
   "outputs": [],
   "source": [
    "from memoization import cached"
   ]
  },
  {
   "cell_type": "code",
   "execution_count": 3,
   "metadata": {},
   "outputs": [],
   "source": [
    "#define fields\n",
    "F=[0, 1, 2, 3]\n",
    "#fields volumes\n",
    "V_f=[10, 20, 15, 20]\n",
    "\n",
    "#earliest & latest possible planting time\n",
    "EPT=0\n",
    "LPT=5\n",
    "\n",
    "#earliest & latest detasseling time\n",
    "EDT=30\n",
    "LDT=33\n",
    "\n",
    "#earliest & latest harvesting time\n",
    "EHT=58\n",
    "LHT=60\n",
    "\n",
    "#lowest & highest detasseling GDU\n",
    "LgduD=750\n",
    "HgduD=1000\n",
    "\n",
    "#lowest & highest harvesting GDU\n",
    "LgduH=1400\n",
    "HgduH=1500"
   ]
  },
  {
   "cell_type": "code",
   "execution_count": 4,
   "metadata": {},
   "outputs": [],
   "source": [
    "#define transition function\n",
    "def transition(s, u):\n",
    "    #decompose s, u\n",
    "    gdu=s[0]\n",
    "    p=s[1]\n",
    "    d=s[2]\n",
    "    h=s[3]\n",
    "    \n",
    "    u=[list(x) for x in u]\n",
    "    u_p=u[0]\n",
    "    u_d=u[1]\n",
    "    u_h=u[2]\n",
    "    \n",
    "    #transition\n",
    "    #gdu=gdu(1-u_h)+25(p-h)\n",
    "    gdu=list(np.array(gdu)+25*(np.array(p)-np.array(h)))\n",
    "    p=list(np.array(p)+np.array(u_p))\n",
    "    d=list(np.array(d)+np.array(u_d))\n",
    "    h=list(np.array(h)+np.array(u_h))\n",
    "    \n",
    "    return [gdu, p, d, h]"
   ]
  },
  {
   "cell_type": "code",
   "execution_count": 5,
   "metadata": {},
   "outputs": [],
   "source": [
    "#define the action space filter\n",
    "def action(s, t):\n",
    "    #decompose s\n",
    "    gdu=s[0]\n",
    "    p=s[1]\n",
    "    d=s[2]\n",
    "    h=s[3]\n",
    "    \n",
    "    #initialize a set of potential actions\n",
    "    u_p_lst=list(itertools.product([0,1],repeat=4))\n",
    "    u_d_lst=list(itertools.product([0,1],repeat=4))\n",
    "    u_h_lst=list(itertools.product([0,1],repeat=4))\n",
    "    \n",
    "    #resource constraints\n",
    "    u_p_lst=[u_p for u_p in u_p_lst if sum(u_p)<=3] #planting reources <=3\n",
    "    u_d_lst=[u_d for u_d in u_d_lst if sum(u_d)<=2] #detasseling resources <=2\n",
    "    u_h_lst=[u_h for u_h in u_h_lst if sum(u_h)<=2] #harvesting resources <=2\n",
    "    \n",
    "    #operation sequence\n",
    "    u_p_lst=[u_p for u_p in u_p_lst if np.all(np.multiply(u_p, p)<= 0)] #do not plant if already planted\n",
    "    u_d_lst=[u_d for u_d in u_d_lst if np.all(np.multiply(u_d, d)<= 0)] #do not detassel if already detasseled\n",
    "    u_h_lst=[u_h for u_h in u_h_lst if np.all(np.multiply(u_h, h)<= 0)] #do not harvest if already harvested\n",
    "    \n",
    "    u_d_lst=[u_d for u_d in u_d_lst if np.all(np.array(u_d)<=np.array(p))] #do not detassel if not planted\n",
    "    u_h_lst=[u_h for u_h in u_h_lst if np.all(np.array(u_h)<=np.array(d))] #do not harvest if not detasseled\n",
    "    \n",
    "    #operation time window\n",
    "    u_p_lst=[u_p for u_p in u_p_lst if np.all(np.multiply(u_p, t)<= LPT)] #do not plant later than LPT\n",
    "    u_p_lst=[u_p for u_p in u_p_lst if np.all(np.multiply(u_p, EPT)<= t)] #do not plant earlier than EPT\n",
    "    \n",
    "    u_d_lst=[u_d for u_d in u_d_lst if np.all(np.multiply(u_d, t)<= LDT)] #do not detassel later than LPT\n",
    "    u_d_lst=[u_d for u_d in u_d_lst if np.all(np.multiply(u_d, EDT)<= t)] #do not detassel earlier than EPT\n",
    "    \n",
    "    u_h_lst=[u_h for u_h in u_h_lst if np.all(np.multiply(u_h, t)<= LHT)] #do not detassel later than LPT\n",
    "    u_h_lst=[u_h for u_h in u_h_lst if np.all(np.multiply(u_h, EHT)<= t)] #do not detassel earlier than EPT\n",
    "    \n",
    "    #operation gdu window\n",
    "    u_d_lst=[u_d for u_d in u_d_lst if np.all(np.multiply(u_d, gdu)<= HgduD)] #do not detassel later than LPT\n",
    "    u_d_lst=[u_d for u_d in u_d_lst if np.all(np.multiply(u_d, LgduD)<= gdu)] #do not detassel earlier than EPT\n",
    "    \n",
    "    u_h_lst=[u_h for u_h in u_h_lst if np.all(np.multiply(u_h, gdu)<= HgduH)] #do not detassel later than LPT\n",
    "    u_h_lst=[u_h for u_h in u_h_lst if np.all(np.multiply(u_h, LgduH)<= gdu)] #do not detassel earlier than EPT\n",
    "    \n",
    "    #one operation per day in a field\n",
    "    ##maybe not neccessary because operational sequence constraints do not allow multiple operation in one day\n",
    "    \n",
    "    return[u_p_lst, u_d_lst, u_h_lst]"
   ]
  },
  {
   "cell_type": "code",
   "execution_count": 6,
   "metadata": {},
   "outputs": [],
   "source": [
    "#define reward\n",
    "def reward(s, u):\n",
    "    #decompose s, u\n",
    "    gdu=s[0]\n",
    "    p=s[1]\n",
    "    d=s[2]\n",
    "    h=s[3]\n",
    "    \n",
    "    u=[list(x) for x in u]\n",
    "    u_p=u[0]\n",
    "    u_d=u[1]\n",
    "    u_h=u[2]\n",
    "    \n",
    "    reward=sum(np.multiply(np.multiply(V_f, 1-abs(np.array(gdu)-1450)/1000), u_h))\n",
    "    \n",
    "    return reward"
   ]
  },
  {
   "cell_type": "code",
   "execution_count": 7,
   "metadata": {},
   "outputs": [],
   "source": [
    "#value function\n",
    "@cached(max_size=None)\n",
    "def value_function(s, t):\n",
    "    #decompose s\n",
    "    gdu=s[0]\n",
    "    p=s[1]\n",
    "    d=s[2]\n",
    "    h=s[3]\n",
    "    \n",
    "    #checks wether all field operation is done\n",
    "    #if (np.all(np.array(h)==1)):\n",
    "    #    return 0\n",
    "    #elif (t==61):\n",
    "    if (t==61):\n",
    "    #    u_set=action(s, t) #get the set of all available actions [(u_p1), (u_d), (u_h)]\n",
    "    #    u_set=list(itertools.product(u_set[0], u_set[1], u_set[2]))\n",
    "    #    u_set=[list(x) for x in u_set]\n",
    "        \n",
    "    #    return max([reward(s, u) for u in u_set])\n",
    "        return 0\n",
    "    else:\n",
    "        u_set=action(s, t)  #get the set of all available actions [(u_p1), (u_d), (u_h)]\n",
    "        u_set=list(itertools.product(u_set[0], u_set[1], u_set[2]))\n",
    "        u_set=[list(x) for x in u_set]\n",
    "        \n",
    "        return max([reward(s, u)+value_function(transition(s, u), t+1) for u in u_set])"
   ]
  },
  {
   "cell_type": "code",
   "execution_count": 8,
   "metadata": {},
   "outputs": [],
   "source": [
    "#############################################################################\n",
    "#main recursion\n",
    "\n",
    "#define state variable\n",
    "GDU=[0,0,0,0]\n",
    "P=[0,0,0,0]\n",
    "D=[0,0,0,0]\n",
    "H=[0,0,0,0]\n",
    "s=[GDU, P, D, H]\n",
    "t=0\n",
    "\n",
    "v_star=value_function(s, t)"
   ]
  },
  {
   "cell_type": "code",
   "execution_count": 9,
   "metadata": {},
   "outputs": [
    {
     "data": {
      "text/plain": [
       "65.0"
      ]
     },
     "execution_count": 9,
     "metadata": {},
     "output_type": "execute_result"
    }
   ],
   "source": [
    "v_star"
   ]
  },
  {
   "cell_type": "code",
   "execution_count": 10,
   "metadata": {},
   "outputs": [],
   "source": [
    "policy=[]\n",
    "state_progression=[]\n",
    "GDU=[0,0,0,0]\n",
    "P=[0,0,0,0]\n",
    "D=[0,0,0,0]\n",
    "H=[0,0,0,0]\n",
    "s=[GDU, P, D, H]\n",
    "t=0\n",
    "for t in range(0, 61):\n",
    "    u_set=action(s, t)\n",
    "    u_set=list(itertools.product(u_set[0], u_set[1], u_set[2]))\n",
    "    u_set=[list(x) for x in u_set]\n",
    "    new_value=[]\n",
    "    new_s=[]\n",
    "    for u in u_set:\n",
    "        s_temp=transition(s, u)\n",
    "        new_s.append(s_temp)\n",
    "        new_value.append(reward(s, u)+value_function(s_temp, t+1))\n",
    "    policy.append(u_set[np.argmax(new_value)])\n",
    "    s=new_s[np.argmax(new_value)]\n",
    "    state_progression.append(s)\n",
    "policy.reverse()"
   ]
  },
  {
   "cell_type": "code",
   "execution_count": 11,
   "metadata": {},
   "outputs": [
    {
     "data": {
      "text/plain": [
       "[[(0, 0, 0, 0), (0, 0, 0, 0), (1, 1, 0, 0)],\n",
       " [(0, 0, 0, 0), (0, 0, 0, 0), (0, 0, 1, 1)],\n",
       " [(0, 0, 0, 0), (0, 0, 0, 0), (0, 0, 0, 0)],\n",
       " [(0, 0, 0, 0), (0, 0, 0, 0), (0, 0, 0, 0)],\n",
       " [(0, 0, 0, 0), (0, 0, 0, 0), (0, 0, 0, 0)],\n",
       " [(0, 0, 0, 0), (0, 0, 0, 0), (0, 0, 0, 0)],\n",
       " [(0, 0, 0, 0), (0, 0, 0, 0), (0, 0, 0, 0)],\n",
       " [(0, 0, 0, 0), (0, 0, 0, 0), (0, 0, 0, 0)],\n",
       " [(0, 0, 0, 0), (0, 0, 0, 0), (0, 0, 0, 0)],\n",
       " [(0, 0, 0, 0), (0, 0, 0, 0), (0, 0, 0, 0)],\n",
       " [(0, 0, 0, 0), (0, 0, 0, 0), (0, 0, 0, 0)],\n",
       " [(0, 0, 0, 0), (0, 0, 0, 0), (0, 0, 0, 0)],\n",
       " [(0, 0, 0, 0), (0, 0, 0, 0), (0, 0, 0, 0)],\n",
       " [(0, 0, 0, 0), (0, 0, 0, 0), (0, 0, 0, 0)],\n",
       " [(0, 0, 0, 0), (0, 0, 0, 0), (0, 0, 0, 0)],\n",
       " [(0, 0, 0, 0), (0, 0, 0, 0), (0, 0, 0, 0)],\n",
       " [(0, 0, 0, 0), (0, 0, 0, 0), (0, 0, 0, 0)],\n",
       " [(0, 0, 0, 0), (0, 0, 0, 0), (0, 0, 0, 0)],\n",
       " [(0, 0, 0, 0), (0, 0, 0, 0), (0, 0, 0, 0)],\n",
       " [(0, 0, 0, 0), (0, 0, 0, 0), (0, 0, 0, 0)],\n",
       " [(0, 0, 0, 0), (0, 0, 0, 0), (0, 0, 0, 0)],\n",
       " [(0, 0, 0, 0), (0, 0, 0, 0), (0, 0, 0, 0)],\n",
       " [(0, 0, 0, 0), (0, 0, 0, 0), (0, 0, 0, 0)],\n",
       " [(0, 0, 0, 0), (0, 0, 0, 0), (0, 0, 0, 0)],\n",
       " [(0, 0, 0, 0), (0, 0, 0, 0), (0, 0, 0, 0)],\n",
       " [(0, 0, 0, 0), (0, 0, 0, 0), (0, 0, 0, 0)],\n",
       " [(0, 0, 0, 0), (0, 0, 0, 0), (0, 0, 0, 0)],\n",
       " [(0, 0, 0, 0), (1, 1, 0, 0), (0, 0, 0, 0)],\n",
       " [(0, 0, 0, 0), (0, 0, 1, 1), (0, 0, 0, 0)],\n",
       " [(0, 0, 0, 0), (0, 0, 0, 0), (0, 0, 0, 0)],\n",
       " [(0, 0, 0, 0), (0, 0, 0, 0), (0, 0, 0, 0)],\n",
       " [(0, 0, 0, 0), (0, 0, 0, 0), (0, 0, 0, 0)],\n",
       " [(0, 0, 0, 0), (0, 0, 0, 0), (0, 0, 0, 0)],\n",
       " [(0, 0, 0, 0), (0, 0, 0, 0), (0, 0, 0, 0)],\n",
       " [(0, 0, 0, 0), (0, 0, 0, 0), (0, 0, 0, 0)],\n",
       " [(0, 0, 0, 0), (0, 0, 0, 0), (0, 0, 0, 0)],\n",
       " [(0, 0, 0, 0), (0, 0, 0, 0), (0, 0, 0, 0)],\n",
       " [(0, 0, 0, 0), (0, 0, 0, 0), (0, 0, 0, 0)],\n",
       " [(0, 0, 0, 0), (0, 0, 0, 0), (0, 0, 0, 0)],\n",
       " [(0, 0, 0, 0), (0, 0, 0, 0), (0, 0, 0, 0)],\n",
       " [(0, 0, 0, 0), (0, 0, 0, 0), (0, 0, 0, 0)],\n",
       " [(0, 0, 0, 0), (0, 0, 0, 0), (0, 0, 0, 0)],\n",
       " [(0, 0, 0, 0), (0, 0, 0, 0), (0, 0, 0, 0)],\n",
       " [(0, 0, 0, 0), (0, 0, 0, 0), (0, 0, 0, 0)],\n",
       " [(0, 0, 0, 0), (0, 0, 0, 0), (0, 0, 0, 0)],\n",
       " [(0, 0, 0, 0), (0, 0, 0, 0), (0, 0, 0, 0)],\n",
       " [(0, 0, 0, 0), (0, 0, 0, 0), (0, 0, 0, 0)],\n",
       " [(0, 0, 0, 0), (0, 0, 0, 0), (0, 0, 0, 0)],\n",
       " [(0, 0, 0, 0), (0, 0, 0, 0), (0, 0, 0, 0)],\n",
       " [(0, 0, 0, 0), (0, 0, 0, 0), (0, 0, 0, 0)],\n",
       " [(0, 0, 0, 0), (0, 0, 0, 0), (0, 0, 0, 0)],\n",
       " [(0, 0, 0, 0), (0, 0, 0, 0), (0, 0, 0, 0)],\n",
       " [(0, 0, 0, 0), (0, 0, 0, 0), (0, 0, 0, 0)],\n",
       " [(0, 0, 0, 0), (0, 0, 0, 0), (0, 0, 0, 0)],\n",
       " [(0, 0, 0, 0), (0, 0, 0, 0), (0, 0, 0, 0)],\n",
       " [(0, 0, 0, 0), (0, 0, 0, 0), (0, 0, 0, 0)],\n",
       " [(0, 0, 0, 0), (0, 0, 0, 0), (0, 0, 0, 0)],\n",
       " [(0, 0, 0, 0), (0, 0, 0, 0), (0, 0, 0, 0)],\n",
       " [(0, 0, 0, 0), (0, 0, 0, 0), (0, 0, 0, 0)],\n",
       " [(1, 1, 0, 0), (0, 0, 0, 0), (0, 0, 0, 0)],\n",
       " [(0, 0, 1, 1), (0, 0, 0, 0), (0, 0, 0, 0)]]"
      ]
     },
     "execution_count": 11,
     "metadata": {},
     "output_type": "execute_result"
    }
   ],
   "source": [
    "policy"
   ]
  },
  {
   "cell_type": "code",
   "execution_count": 12,
   "metadata": {},
   "outputs": [
    {
     "data": {
      "text/plain": [
       "[[[0, 0, 0, 0], [0, 0, 1, 1], [0, 0, 0, 0], [0, 0, 0, 0]],\n",
       " [[0, 0, 25, 25], [1, 1, 1, 1], [0, 0, 0, 0], [0, 0, 0, 0]],\n",
       " [[25, 25, 50, 50], [1, 1, 1, 1], [0, 0, 0, 0], [0, 0, 0, 0]],\n",
       " [[50, 50, 75, 75], [1, 1, 1, 1], [0, 0, 0, 0], [0, 0, 0, 0]],\n",
       " [[75, 75, 100, 100], [1, 1, 1, 1], [0, 0, 0, 0], [0, 0, 0, 0]],\n",
       " [[100, 100, 125, 125], [1, 1, 1, 1], [0, 0, 0, 0], [0, 0, 0, 0]],\n",
       " [[125, 125, 150, 150], [1, 1, 1, 1], [0, 0, 0, 0], [0, 0, 0, 0]],\n",
       " [[150, 150, 175, 175], [1, 1, 1, 1], [0, 0, 0, 0], [0, 0, 0, 0]],\n",
       " [[175, 175, 200, 200], [1, 1, 1, 1], [0, 0, 0, 0], [0, 0, 0, 0]],\n",
       " [[200, 200, 225, 225], [1, 1, 1, 1], [0, 0, 0, 0], [0, 0, 0, 0]],\n",
       " [[225, 225, 250, 250], [1, 1, 1, 1], [0, 0, 0, 0], [0, 0, 0, 0]],\n",
       " [[250, 250, 275, 275], [1, 1, 1, 1], [0, 0, 0, 0], [0, 0, 0, 0]],\n",
       " [[275, 275, 300, 300], [1, 1, 1, 1], [0, 0, 0, 0], [0, 0, 0, 0]],\n",
       " [[300, 300, 325, 325], [1, 1, 1, 1], [0, 0, 0, 0], [0, 0, 0, 0]],\n",
       " [[325, 325, 350, 350], [1, 1, 1, 1], [0, 0, 0, 0], [0, 0, 0, 0]],\n",
       " [[350, 350, 375, 375], [1, 1, 1, 1], [0, 0, 0, 0], [0, 0, 0, 0]],\n",
       " [[375, 375, 400, 400], [1, 1, 1, 1], [0, 0, 0, 0], [0, 0, 0, 0]],\n",
       " [[400, 400, 425, 425], [1, 1, 1, 1], [0, 0, 0, 0], [0, 0, 0, 0]],\n",
       " [[425, 425, 450, 450], [1, 1, 1, 1], [0, 0, 0, 0], [0, 0, 0, 0]],\n",
       " [[450, 450, 475, 475], [1, 1, 1, 1], [0, 0, 0, 0], [0, 0, 0, 0]],\n",
       " [[475, 475, 500, 500], [1, 1, 1, 1], [0, 0, 0, 0], [0, 0, 0, 0]],\n",
       " [[500, 500, 525, 525], [1, 1, 1, 1], [0, 0, 0, 0], [0, 0, 0, 0]],\n",
       " [[525, 525, 550, 550], [1, 1, 1, 1], [0, 0, 0, 0], [0, 0, 0, 0]],\n",
       " [[550, 550, 575, 575], [1, 1, 1, 1], [0, 0, 0, 0], [0, 0, 0, 0]],\n",
       " [[575, 575, 600, 600], [1, 1, 1, 1], [0, 0, 0, 0], [0, 0, 0, 0]],\n",
       " [[600, 600, 625, 625], [1, 1, 1, 1], [0, 0, 0, 0], [0, 0, 0, 0]],\n",
       " [[625, 625, 650, 650], [1, 1, 1, 1], [0, 0, 0, 0], [0, 0, 0, 0]],\n",
       " [[650, 650, 675, 675], [1, 1, 1, 1], [0, 0, 0, 0], [0, 0, 0, 0]],\n",
       " [[675, 675, 700, 700], [1, 1, 1, 1], [0, 0, 0, 0], [0, 0, 0, 0]],\n",
       " [[700, 700, 725, 725], [1, 1, 1, 1], [0, 0, 0, 0], [0, 0, 0, 0]],\n",
       " [[725, 725, 750, 750], [1, 1, 1, 1], [0, 0, 0, 0], [0, 0, 0, 0]],\n",
       " [[750, 750, 775, 775], [1, 1, 1, 1], [0, 0, 0, 0], [0, 0, 0, 0]],\n",
       " [[775, 775, 800, 800], [1, 1, 1, 1], [0, 0, 1, 1], [0, 0, 0, 0]],\n",
       " [[800, 800, 825, 825], [1, 1, 1, 1], [1, 1, 1, 1], [0, 0, 0, 0]],\n",
       " [[825, 825, 850, 850], [1, 1, 1, 1], [1, 1, 1, 1], [0, 0, 0, 0]],\n",
       " [[850, 850, 875, 875], [1, 1, 1, 1], [1, 1, 1, 1], [0, 0, 0, 0]],\n",
       " [[875, 875, 900, 900], [1, 1, 1, 1], [1, 1, 1, 1], [0, 0, 0, 0]],\n",
       " [[900, 900, 925, 925], [1, 1, 1, 1], [1, 1, 1, 1], [0, 0, 0, 0]],\n",
       " [[925, 925, 950, 950], [1, 1, 1, 1], [1, 1, 1, 1], [0, 0, 0, 0]],\n",
       " [[950, 950, 975, 975], [1, 1, 1, 1], [1, 1, 1, 1], [0, 0, 0, 0]],\n",
       " [[975, 975, 1000, 1000], [1, 1, 1, 1], [1, 1, 1, 1], [0, 0, 0, 0]],\n",
       " [[1000, 1000, 1025, 1025], [1, 1, 1, 1], [1, 1, 1, 1], [0, 0, 0, 0]],\n",
       " [[1025, 1025, 1050, 1050], [1, 1, 1, 1], [1, 1, 1, 1], [0, 0, 0, 0]],\n",
       " [[1050, 1050, 1075, 1075], [1, 1, 1, 1], [1, 1, 1, 1], [0, 0, 0, 0]],\n",
       " [[1075, 1075, 1100, 1100], [1, 1, 1, 1], [1, 1, 1, 1], [0, 0, 0, 0]],\n",
       " [[1100, 1100, 1125, 1125], [1, 1, 1, 1], [1, 1, 1, 1], [0, 0, 0, 0]],\n",
       " [[1125, 1125, 1150, 1150], [1, 1, 1, 1], [1, 1, 1, 1], [0, 0, 0, 0]],\n",
       " [[1150, 1150, 1175, 1175], [1, 1, 1, 1], [1, 1, 1, 1], [0, 0, 0, 0]],\n",
       " [[1175, 1175, 1200, 1200], [1, 1, 1, 1], [1, 1, 1, 1], [0, 0, 0, 0]],\n",
       " [[1200, 1200, 1225, 1225], [1, 1, 1, 1], [1, 1, 1, 1], [0, 0, 0, 0]],\n",
       " [[1225, 1225, 1250, 1250], [1, 1, 1, 1], [1, 1, 1, 1], [0, 0, 0, 0]],\n",
       " [[1250, 1250, 1275, 1275], [1, 1, 1, 1], [1, 1, 1, 1], [0, 0, 0, 0]],\n",
       " [[1275, 1275, 1300, 1300], [1, 1, 1, 1], [1, 1, 1, 1], [0, 0, 0, 0]],\n",
       " [[1300, 1300, 1325, 1325], [1, 1, 1, 1], [1, 1, 1, 1], [0, 0, 0, 0]],\n",
       " [[1325, 1325, 1350, 1350], [1, 1, 1, 1], [1, 1, 1, 1], [0, 0, 0, 0]],\n",
       " [[1350, 1350, 1375, 1375], [1, 1, 1, 1], [1, 1, 1, 1], [0, 0, 0, 0]],\n",
       " [[1375, 1375, 1400, 1400], [1, 1, 1, 1], [1, 1, 1, 1], [0, 0, 0, 0]],\n",
       " [[1400, 1400, 1425, 1425], [1, 1, 1, 1], [1, 1, 1, 1], [0, 0, 0, 0]],\n",
       " [[1425, 1425, 1450, 1450], [1, 1, 1, 1], [1, 1, 1, 1], [0, 0, 0, 0]],\n",
       " [[1450, 1450, 1475, 1475], [1, 1, 1, 1], [1, 1, 1, 1], [0, 0, 1, 1]],\n",
       " [[1475, 1475, 1475, 1475], [1, 1, 1, 1], [1, 1, 1, 1], [1, 1, 1, 1]]]"
      ]
     },
     "execution_count": 12,
     "metadata": {},
     "output_type": "execute_result"
    }
   ],
   "source": [
    "state_progression"
   ]
  }
 ],
 "metadata": {
  "kernelspec": {
   "display_name": "Python 3",
   "language": "python",
   "name": "python3"
  },
  "language_info": {
   "codemirror_mode": {
    "name": "ipython",
    "version": 3
   },
   "file_extension": ".py",
   "mimetype": "text/x-python",
   "name": "python",
   "nbconvert_exporter": "python",
   "pygments_lexer": "ipython3",
   "version": "3.7.6"
  }
 },
 "nbformat": 4,
 "nbformat_minor": 4
}
